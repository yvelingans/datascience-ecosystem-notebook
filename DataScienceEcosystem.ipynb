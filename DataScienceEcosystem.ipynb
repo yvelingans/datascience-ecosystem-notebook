{
 "cells": [
  {
   "cell_type": "markdown",
   "id": "68634f73-e18b-44bf-b481-6dc64bec7890",
   "metadata": {},
   "source": [
    "# Data Science Tools and Ecosystem"
   ]
  },
  {
   "cell_type": "markdown",
   "id": "7d1af99c-ddc6-4354-8905-25cf445f8ccf",
   "metadata": {},
   "source": [
    "In this notebook, Data Science Tools and Ecosystem are summarized."
   ]
  },
  {
   "cell_type": "markdown",
   "id": "1c0e595a-e039-4484-8973-cd45e38ae6a5",
   "metadata": {},
   "source": [
    "**Objectives:**\n",
    "\n",
    "- List popular languages for Data Science  \n",
    "- Identify commonly used libraries by data scientists  \n",
    "- Visualisation with ggplot"
   ]
  },
  {
   "cell_type": "markdown",
   "id": "aedd81ad-49ba-411f-9e8a-f58e5d28a696",
   "metadata": {},
   "source": [
    "Some of the popular languages that Data Scientists use areb:\n",
    "\n",
    "1. Python\n",
    "2. R\n",
    "3. SQL"
   ]
  },
  {
   "cell_type": "markdown",
   "id": "5cd49e0f-cbcd-4022-96ec-e76be1350ce4",
   "metadata": {},
   "source": [
    "Some of the commonly used libraries used by Data Scientists include:\n",
    "\n",
    "1. Pandas\n",
    "2. Scikit-learn\n",
    "3. Numpy\n",
    "4. TensorFlow\n",
    "   "
   ]
  },
  {
   "cell_type": "markdown",
   "id": "3bada081-c3ea-476e-bfe0-7078031a97a7",
   "metadata": {},
   "source": [
    "| Data Science Tools     |\n",
    "|------------------------|\n",
    "| Jupyter Notebook       |\n",
    "| RStudio                |\n",
    "| VS Code                |\n"
   ]
  },
  {
   "cell_type": "markdown",
   "id": "082060a6-8446-4d2c-a3d6-37fea3e27314",
   "metadata": {},
   "source": [
    "### Below are a few examples of evaluating arithmetic expressions in Python"
   ]
  },
  {
   "cell_type": "code",
   "execution_count": 13,
   "id": "6d27025c-d816-4483-b97a-57e8ee7d46d2",
   "metadata": {},
   "outputs": [
    {
     "data": {
      "text/plain": [
       "17"
      ]
     },
     "execution_count": 13,
     "metadata": {},
     "output_type": "execute_result"
    }
   ],
   "source": [
    "\n",
    "#   This a simple arithmetic expression to mutiply then add integers\n",
    "(3*4)+5"
   ]
  },
  {
   "cell_type": "code",
   "execution_count": 15,
   "id": "a56d5371-e675-4384-8932-53f7f536ebb6",
   "metadata": {},
   "outputs": [
    {
     "name": "stdout",
     "output_type": "stream",
     "text": [
      "3.3333333333333335\n"
     ]
    }
   ],
   "source": [
    "# This will convert 200 minutes to hours by diving by 60\n",
    "hours=200/60\n",
    "print(hours)"
   ]
  },
  {
   "cell_type": "markdown",
   "id": "c6a5d238-93e1-4ca7-853a-e7303bacbc9e",
   "metadata": {},
   "source": [
    "## Author\n",
    "\n",
    "Gansou Vigninou Yvelin Childeric"
   ]
  },
  {
   "cell_type": "code",
   "execution_count": null,
   "id": "10692c38-b79c-4e8a-9588-0d735558826c",
   "metadata": {},
   "outputs": [],
   "source": []
  }
 ],
 "metadata": {
  "kernelspec": {
   "display_name": "Python [conda env:base] *",
   "language": "python",
   "name": "conda-base-py"
  },
  "language_info": {
   "codemirror_mode": {
    "name": "ipython",
    "version": 3
   },
   "file_extension": ".py",
   "mimetype": "text/x-python",
   "name": "python",
   "nbconvert_exporter": "python",
   "pygments_lexer": "ipython3",
   "version": "3.12.7"
  }
 },
 "nbformat": 4,
 "nbformat_minor": 5
}
